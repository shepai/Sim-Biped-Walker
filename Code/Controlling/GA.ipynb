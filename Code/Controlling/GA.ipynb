{
 "cells": [
  {
   "cell_type": "code",
   "execution_count": 83,
   "metadata": {},
   "outputs": [],
   "source": [
    "import sys\n",
    "import pybullet as p\n",
    "import pybullet_data\n",
    "import time\n",
    "import random\n",
    "from copy import deepcopy\n",
    "import matplotlib.pyplot as plt\n",
    "import numpy as np\n",
    "import torch \n",
    "import torch.nn as nn\n",
    "import torch.optim as optim\n",
    "\n",
    "path=\"/its/home/drs25/Documents/GitHub/Sim-Biped-Walker/URDF_files/walker_assembly/\"\n",
    "if sys.platform.startswith('win'):\n",
    "    path=\"C:/Users/dexte/Documents/GitHub/Sim-Biped-Walker/URDF_files/walker_assembly/\"\n",
    "robot_urdf_path = \"urdf/walker_assembly.urdf\"  # Replace with the actual path to your URDF file\n",
    "\n",
    "sys.path.append(\"/its/home/drs25/Documents/GitHub/Sim-Biped-Walker/Code/\")\n",
    "import Biped_controller as bp"
   ]
  },
  {
   "attachments": {},
   "cell_type": "markdown",
   "metadata": {},
   "source": [
    "## Physics and robot creation"
   ]
  },
  {
   "cell_type": "code",
   "execution_count": 16,
   "metadata": {},
   "outputs": [
    {
     "ename": "error",
     "evalue": "Only one local in-process GUI/GUI_SERVER connection allowed. Use DIRECT connection mode or start a separate GUI physics server (ExampleBrowser, App_SharedMemoryPhysics_GUI, App_SharedMemoryPhysics_VR) and connect over SHARED_MEMORY, UDP or TCP instead.",
     "output_type": "error",
     "traceback": [
      "\u001b[0;31m---------------------------------------------------------------------------\u001b[0m",
      "\u001b[0;31merror\u001b[0m                                     Traceback (most recent call last)",
      "Cell \u001b[0;32mIn[16], line 30\u001b[0m\n\u001b[1;32m     27\u001b[0m     gravity \u001b[39m=\u001b[39m [\u001b[39m0\u001b[39m, \u001b[39m0\u001b[39m, \u001b[39m-\u001b[39m\u001b[39m9.8\u001b[39m]\n\u001b[1;32m     28\u001b[0m     p\u001b[39m.\u001b[39msetGravity(gravity[\u001b[39m0\u001b[39m], gravity[\u001b[39m1\u001b[39m], gravity[\u001b[39m2\u001b[39m])\n\u001b[0;32m---> 30\u001b[0m createEngine()\n\u001b[1;32m     31\u001b[0m robot\u001b[39m=\u001b[39mbp\u001b[39m.\u001b[39mBiped(p,path\u001b[39m+\u001b[39mrobot_urdf_path)\n",
      "Cell \u001b[0;32mIn[16], line 3\u001b[0m, in \u001b[0;36mcreateEngine\u001b[0;34m()\u001b[0m\n\u001b[1;32m      1\u001b[0m \u001b[39mdef\u001b[39;00m \u001b[39mcreateEngine\u001b[39m():\n\u001b[1;32m      2\u001b[0m     \u001b[39m# Initialize PyBullet\u001b[39;00m\n\u001b[0;32m----> 3\u001b[0m     physicsClient \u001b[39m=\u001b[39m p\u001b[39m.\u001b[39;49mconnect(p\u001b[39m.\u001b[39;49mGUI)  \u001b[39m# or p.DIRECT for non-graphical version\u001b[39;00m\n\u001b[1;32m      4\u001b[0m     \u001b[39m# Remove all objects\u001b[39;00m\n\u001b[1;32m      5\u001b[0m     num_objects \u001b[39m=\u001b[39m p\u001b[39m.\u001b[39mgetNumBodies()\n",
      "\u001b[0;31merror\u001b[0m: Only one local in-process GUI/GUI_SERVER connection allowed. Use DIRECT connection mode or start a separate GUI physics server (ExampleBrowser, App_SharedMemoryPhysics_GUI, App_SharedMemoryPhysics_VR) and connect over SHARED_MEMORY, UDP or TCP instead."
     ]
    }
   ],
   "source": [
    "def createEngine():\n",
    "    # Initialize PyBullet\n",
    "    physicsClient = p.connect(p.GUI)  # or p.DIRECT for non-graphical version\n",
    "    # Remove all objects\n",
    "    num_objects = p.getNumBodies()\n",
    "    for i in range(num_objects):\n",
    "        p.removeBody(p.getBodyUniqueId(i))\n",
    "\n",
    "    # Reset the environment\n",
    "    p.resetSimulation()\n",
    "    p.setAdditionalSearchPath(path)  # Set the path for urdf files\n",
    "    p.setAdditionalSearchPath(pybullet_data.getDataPath())  # Set the path for urdf files\n",
    "    # Load ground plane\n",
    "    p.loadURDF(\"plane.urdf\",[0, 0, 0])  # Assuming there's a plane.urdf file in the pybullet data path\n",
    "    # Load URDF file\n",
    "    gravity = [0, 0, -9.8]\n",
    "    p.setGravity(gravity[0], gravity[1], gravity[2])\n",
    "\n",
    "def reset():\n",
    "    num_objects = p.getNumBodies()\n",
    "    for i in range(num_objects):\n",
    "        p.removeBody(p.getBodyUniqueId(i))\n",
    "    # Reset the environment\n",
    "    p.resetSimulation()\n",
    "    p.loadURDF(\"plane.urdf\",[0, 0, 0])  # Assuming there's a plane.urdf file in the pybullet data path\n",
    "    # Load URDF file\n",
    "    gravity = [0, 0, -9.8]\n",
    "    p.setGravity(gravity[0], gravity[1], gravity[2])\n",
    "\n",
    "createEngine()\n",
    "robot=bp.Biped(p,path+robot_urdf_path)"
   ]
  },
  {
   "cell_type": "code",
   "execution_count": null,
   "metadata": {},
   "outputs": [
    {
     "name": "stdout",
     "output_type": "stream",
     "text": [
      "(-7.403932178333501e-18, -7.822274398480377e-17, 2.2034421452109355e-18)\n",
      "[-7.403932178333501e-18, -7.822274398480377e-17, 2.2034421452109355e-18]\n"
     ]
    }
   ],
   "source": [
    "print(robot.get_orientation())\n",
    "start_pos=robot.get_position()\n",
    "robot.set_positions([0.1,0.5,0.5,0.8])\n",
    "for _ in range(100):  # Run the simulation for 1000 steps (adjust as needed)\n",
    "    p.stepSimulation()\n",
    "    time.sleep(1./240.)\n",
    "print(robot.orientation)"
   ]
  },
  {
   "attachments": {},
   "cell_type": "markdown",
   "metadata": {},
   "source": [
    "## Evolution functions"
   ]
  },
  {
   "cell_type": "code",
   "execution_count": 114,
   "metadata": {},
   "outputs": [
    {
     "name": "stdout",
     "output_type": "stream",
     "text": [
      "torch.Size([100, 4])\n"
     ]
    },
    {
     "data": {
      "image/png": "[encoded data removed]",
      "text/plain": [
       "<Figure size 640x480 with 1 Axes>"
      ]
     },
     "metadata": {},
     "output_type": "display_data"
    }
   ],
   "source": [
    "def fitness_func(robot,startpos,endpos):\n",
    "    fitness=0\n",
    "    #distances=np.linalg.norm(np.array(startpos) - np.array(endpos))\n",
    "    orientation=robot.get_orientation()\n",
    "    dist=np.linalg.norm(np.array(robot.orientation) - np.array(orientation))\n",
    "    if dist>2:\n",
    "        #fallen over robot\n",
    "        return fitness\n",
    "    x_dist=startpos[1]-endpos[1]\n",
    "    other=np.abs(startpos-endpos)\n",
    "    other=other[0]+other[2]\n",
    "    return x_dist-other\n",
    "\n",
    "import numpy as np\n",
    "\n",
    "class NeuralNetwork:\n",
    "    def __init__(self, input_size, hidden_layers, output_size):\n",
    "        self.input_size = input_size\n",
    "        self.hidden_layers = hidden_layers\n",
    "        self.output_size = output_size\n",
    "        \n",
    "        # Initialize weights and biases\n",
    "        self.weights = []\n",
    "        self.biases = []\n",
    "        \n",
    "        # Initialize weights and biases for hidden layers\n",
    "        for i, layer_size in enumerate(hidden_layers):\n",
    "            if i == 0:\n",
    "                input_layer_size = input_size\n",
    "            else:\n",
    "                input_layer_size = hidden_layers[i-1]\n",
    "            self.weights.append(np.random.randn(input_layer_size,layer_size))\n",
    "            self.biases.append(np.random.randn(1,layer_size))\n",
    "        \n",
    "        # Initialize weights and biases for output layer\n",
    "        self.weights.append(np.random.randn(hidden_layers[-1],output_size))\n",
    "        self.biases.append(np.random.randn(1,output_size))\n",
    "        \n",
    "    def forward(self, x):\n",
    "        # Forward pass through the network\n",
    "        for i in range(len(self.weights)-1):\n",
    "            z = np.dot(x,self.weights[i]) + self.biases[i]\n",
    "            x = self.sigmoid(z) if i < len(self.weights) - 1 else self.softmax(z)\n",
    "        x = np.dot(x,self.weights[-1]) + self.biases[-1]\n",
    "        return self.tanh_activation(x)/10\n",
    "    def count_parameters(self):\n",
    "        # Count total number of values in weights and biases\n",
    "        total_parameters = sum(np.size(w) for w in self.weights) + sum(np.size(b) for b in self.biases)\n",
    "        return total_parameters\n",
    "    def sigmoid(self, z):\n",
    "        return 1 / (1 + np.exp(-z))\n",
    "    def tanh_activation(self,x):\n",
    "        return np.tanh(x)\n",
    "    def softmax(self, z):\n",
    "        exp_z = np.exp(z)\n",
    "        return exp_z / np.sum(exp_z, axis=0)\n",
    "    \n",
    "    def mutate(self, mutation_array):\n",
    "        # Mutate weights and biases using Gaussian noise\n",
    "        index = 0\n",
    "        for i in range(len(self.weights)):\n",
    "            self.weights[i] += mutation_array[index: index + self.weights[i].size].reshape(self.weights[i].shape)\n",
    "            index += self.weights[i].size\n",
    "        for i in range(len(self.biases)):\n",
    "            self.biases[i] += mutation_array[index: index + self.biases[i].size].reshape(self.biases[i].shape)\n",
    "            index += self.biases[i].size\n",
    "    def set_genes(self, genes):\n",
    "        # Assign weights and biases using the provided array\n",
    "        index = 0\n",
    "        for i in range(len(self.weights)):\n",
    "            self.weights[i] = genes[index: index + self.weights[i].size].reshape(self.weights[i].shape)\n",
    "            index += self.weights[i].size\n",
    "        for i in range(len(self.biases)):\n",
    "            self.biases[i] = genes[index: index + self.biases[i].size].reshape(self.biases[i].shape)\n",
    "            index += self.biases[i].size\n",
    "\n",
    "class RNN:\n",
    "    def __init__(self,num,hidden): #initialize parameters\n",
    "        self.weights1=nn.Linear(num,hidden)\n",
    "        self.weights2=nn.Linear(hidden,num)\n",
    "        self.gene_num=num*hidden + hidden*num + hidden + num\n",
    "    def forward(self,x): #forward pass\n",
    "        h=torch.tanh(self.weights1(x))\n",
    "        o=torch.tanh(self.weights2(h))\n",
    "        return o\n",
    "    def set_genes(self,genes): # set genes over current weights and biases\n",
    "        idx=0\n",
    "        idxe=0\n",
    "        for param in self.weights1.parameters():\n",
    "            idxe=len(param.data)\n",
    "            param.data=genes[idx:idxe]\n",
    "            idx=idxe\n",
    "        for param in self.weights2.parameters():\n",
    "            idxe=len(param.data)\n",
    "            param.data=genes[idx:idxe]\n",
    "            idx=idxe\n",
    "    def mutate(self,genes): #mutate neural network\n",
    "        idx=0\n",
    "        idxe=0\n",
    "        for param in self.weights1.parameters():\n",
    "            idxe=len(param.data)\n",
    "            param.data+=genes[idx:idxe]\n",
    "            idx=idxe\n",
    "        for param in self.weights2.parameters():\n",
    "            idxe=len(param.data)\n",
    "            param.data+=genes[idx:idxe]\n",
    "            idx=idxe\n",
    "    \n",
    "net=RNN(4,8)\n",
    "c=torch.zeros((100,4))\n",
    "c[0]=torch.rand(1,4)\n",
    "for i in range(1,100):\n",
    "    c[i]=net.forward(c[i-1])\n",
    "print(c.shape)\n",
    "plt.plot(c.detach().numpy())\n",
    "plt.show()\n",
    "net.set_genes(torch.rand(net.gene_num))\n",
    "net.mutate_genes(torch.rand(net.gene_num))"
   ]
  },
  {
   "cell_type": "code",
   "execution_count": null,
   "metadata": {},
   "outputs": [],
   "source": [
    "nn=NeuralNetwork(5,[10],2)\n",
    "nn.forward(np.random.normal(0,1,(4,5)))\n",
    "noise=np.random.normal(0,5,(nn.count_parameters(),))\n",
    "nn.mutate(noise)\n",
    "reset()\n",
    "robot=bp.Biped(p,path+robot_urdf_path,position=[0, 0, .15])\n",
    "for _ in range(50):  # Run the simulation for 1000 steps (adjust as needed)\n",
    "    p.stepSimulation()\n",
    "    time.sleep(1./240.)"
   ]
  },
  {
   "attachments": {},
   "cell_type": "markdown",
   "metadata": {},
   "source": [
    "## GA"
   ]
  },
  {
   "cell_type": "code",
   "execution_count": null,
   "metadata": {},
   "outputs": [],
   "source": [
    "def runTrial(agent,time_max,co=0):\n",
    "    dt=0.01\n",
    "    timer=0\n",
    "    reset()\n",
    "    robot=bp.Biped(p,path+robot_urdf_path,position=[0, 0, .15])\n",
    "    start_pos=robot.get_position()\n",
    "    while timer<time_max:\n",
    "        friction=np.array([co])\n",
    "        positions=np.array(robot.positions())\n",
    "        out=agent.forward(np.concatenate([positions,friction],axis=0))\n",
    "        outputs=positions+out.flatten()\n",
    "        outputs[outputs>.5]=.5\n",
    "        outputs[outputs<-.5]=-.5\n",
    "        robot.set_positions(outputs)\n",
    "        p.stepSimulation()\n",
    "        #time.sleep(1./240.)\n",
    "        timer+=dt\n",
    "    return fitness_func(robot,start_pos,robot.get_position())\n",
    "def microbial(populalation,generations,mutation_rate,trials=5,co=0):\n",
    "    std=10*mutation_rate\n",
    "    fitness=[0]\n",
    "    for i in range(generations):\n",
    "        print(\"Generation\",i+1,\"best fitness =\",np.max(fitness))\n",
    "        #select genotypes\n",
    "        idx1=random.randint(0,len(populalation)-1)\n",
    "        idx2=random.randint(0,len(populalation)-1)\n",
    "        while idx1==idx2: #prevent same index\n",
    "            idx2=random.randint(0,len(populalation)-1)\n",
    "        #run trial\n",
    "        fit1=0\n",
    "        for i in range(trials):\n",
    "            agent=NeuralNetwork(5,[10,20],4)\n",
    "            agent.set_genes(populalation[idx1])\n",
    "            fit1+=runTrial(agent,20,co=co)\n",
    "        fit1/=trials\n",
    "        fit2=0\n",
    "        for i in range(trials):\n",
    "            agent=NeuralNetwork(5,[10,20],4)\n",
    "            agent.set_genes(populalation[idx2])\n",
    "            fit2+=runTrial(agent,20,co=co)\n",
    "        fit2/=trials\n",
    "        if fit1>fit2: #make tournanment and selection\n",
    "            populalation[idx2]=deepcopy(populalation[idx1])+np.random.normal(0,std,populalation[idx2].shape) #mutated\n",
    "        else:\n",
    "            populalation[idx1]=deepcopy(populalation[idx2])+np.random.normal(0,std,populalation[idx1].shape) #mutated\n",
    "        fitness.append(max(fitness+[fit1,fit2]))\n",
    "    return fitness\n",
    "\n",
    "population_size=100\n",
    "num_genes=5*10 + 10*20 + 20*4 +10 + 20 + 4\n",
    "population=np.random.normal(0,5,(population_size,num_genes))\n",
    "fitnesses=microbial(population,100,0.4)\n",
    "print(fitnesses)"
   ]
  },
  {
   "cell_type": "code",
   "execution_count": 39,
   "metadata": {},
   "outputs": [
    {
     "data": {
      "image/png": "[encoded data removed]",
      "text/plain": [
       "<Figure size 640x480 with 1 Axes>"
      ]
     },
     "metadata": {},
     "output_type": "display_data"
    }
   ],
   "source": [
    "plt.plot(fitnesses)\n",
    "plt.show()"
   ]
  },
  {
   "cell_type": "code",
   "execution_count": null,
   "metadata": {},
   "outputs": [
    {
     "name": "stdout",
     "output_type": "stream",
     "text": [
      "0\n"
     ]
    }
   ],
   "source": [
    "\n",
    "agent=NeuralNetwork(5,[10,20],4)\n",
    "agent.set_genes(population[0])\n",
    "fit2=runTrial(agent,10,co=0)\n",
    "print(fit2)"
   ]
  },
  {
   "attachments": {},
   "cell_type": "markdown",
   "metadata": {},
   "source": [
    "## Natural walk"
   ]
  },
  {
   "cell_type": "code",
   "execution_count": 113,
   "metadata": {},
   "outputs": [
    {
     "name": "stdout",
     "output_type": "stream",
     "text": [
      "(-0.000609095676819213, 0.02969637854918617, 0.11290467951335718) \n",
      " (0.04166299054964187, -0.18196263980938482, 0.11290742337154308)\n"
     ]
    }
   ],
   "source": [
    "reset()\n",
    "robot=bp.Biped(p,path+robot_urdf_path,position=[0, 0, .15])\n",
    "start=robot.get_position()\n",
    "#[LH, LA, RH RA]\n",
    "pattern=[[0,0.5,0,0.5],\n",
    "         [-0.5,0.5,-0.5,0.5],\n",
    "         [-0.5,0,-0.5,0],\n",
    "         [-0.5,-0.5,-0.5,-0.5],\n",
    "         [0,0,0,0],\n",
    "]\n",
    "for k in range(10):\n",
    "    for i in range(len(pattern)):\n",
    "        robot.set_positions(pattern[i])\n",
    "        for j in range(150):\n",
    "            p.stepSimulation()\n",
    "            time.sleep(1./240.)\n",
    "\n",
    "    for j in range(100):\n",
    "            p.stepSimulation()\n",
    "end=robot.get_position()\n",
    "print(start,\"\\n\",end)"
   ]
  }
 ],
 "metadata": {
  "kernelspec": {
   "display_name": "base",
   "language": "python",
   "name": "python3"
  },
  "language_info": {
   "codemirror_mode": {
    "name": "ipython",
    "version": 3
   },
   "file_extension": ".py",
   "mimetype": "text/x-python",
   "name": "python",
   "nbconvert_exporter": "python",
   "pygments_lexer": "ipython3",
   "version": "3.10.8"
  },
  "orig_nbformat": 4
 },
 "nbformat": 4,
 "nbformat_minor": 2
}
