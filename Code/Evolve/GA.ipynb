{
 "cells": [
  {
   "cell_type": "code",
   "execution_count": 1,
   "metadata": {},
   "outputs": [
    {
     "name": "stderr",
     "output_type": "stream",
     "text": [
      "pybullet build time: Mar 20 2023 17:18:05\n"
     ]
    }
   ],
   "source": [
    "import sys\n",
    "import pybullet as p\n",
    "import pybullet_data\n",
    "import time\n",
    "path=\"/its/home/drs25/Documents/GitHub/Sim-Biped-Walker/URDF_files/walker_assembly/\"\n",
    "if sys.platform.startswith('win'):\n",
    "    path=\"C:/Users/dexte/Documents/GitHub/Sim-Biped-Walker/URDF_files/walker_assembly/\"\n",
    "robot_urdf_path = \"urdf/walker_assembly.urdf\"  # Replace with the actual path to your URDF file\n",
    "\n",
    "sys.path.append(\"/its/home/drs25/Documents/GitHub/Sim-Biped-Walker/Code/\")\n",
    "import Biped_controller as bp"
   ]
  },
  {
   "attachments": {},
   "cell_type": "markdown",
   "metadata": {},
   "source": [
    "## Physics and robot creation"
   ]
  },
  {
   "cell_type": "code",
   "execution_count": 2,
   "metadata": {},
   "outputs": [
    {
     "name": "stdout",
     "output_type": "stream",
     "text": [
      "startThreads creating 1 threads.\n",
      "starting thread 0\n",
      "started thread 0 \n",
      "argc=2\n",
      "argv[0] = --unused\n",
      "argv[1] = --start_demo_name=Physics Server\n",
      "ExampleBrowserThreadFunc started\n",
      "X11 functions dynamically loaded using dlopen/dlsym OK!\n",
      "X11 functions dynamically loaded using dlopen/dlsym OK!\n",
      "Creating context\n",
      "Created GL 3.3 context\n",
      "Direct GLX rendering context obtained\n",
      "Making context current\n",
      "GL_VENDOR=NVIDIA Corporation\n",
      "GL_RENDERER=Quadro P620/PCIe/SSE2\n",
      "GL_VERSION=3.3.0 NVIDIA 525.147.05\n",
      "GL_SHADING_LANGUAGE_VERSION=3.30 NVIDIA via Cg compiler\n",
      "pthread_getconcurrency()=0\n",
      "Version = 3.3.0 NVIDIA 525.147.05\n",
      "Vendor = NVIDIA Corporation\n",
      "Renderer = Quadro P620/PCIe/SSE2\n",
      "b3Printf: Selected demo: Physics Server\n",
      "startThreads creating 1 threads.\n",
      "starting thread 0\n",
      "started thread 0 \n",
      "MotionThreadFunc thread started\n",
      "ven = NVIDIA Corporation\n",
      "ven = NVIDIA Corporation\n"
     ]
    }
   ],
   "source": [
    "\n",
    "# Initialize PyBullet\n",
    "physicsClient = p.connect(p.GUI)  # or p.DIRECT for non-graphical version\n",
    "\n",
    "p.setAdditionalSearchPath(path)  # Set the path for urdf files\n",
    "p.setAdditionalSearchPath(pybullet_data.getDataPath())  # Set the path for urdf files\n",
    "# Load ground plane\n",
    "p.loadURDF(\"plane.urdf\",[0, 0, 0])  # Assuming there's a plane.urdf file in the pybullet data path\n",
    "# Load URDF file\n",
    "gravity = [0, 0, -9.8]\n",
    "p.setGravity(gravity[0], gravity[1], gravity[2])\n",
    "\n",
    "robot=bp.Biped(p,path+robot_urdf_path)"
   ]
  },
  {
   "cell_type": "code",
   "execution_count": 8,
   "metadata": {},
   "outputs": [
    {
     "name": "stdout",
     "output_type": "stream",
     "text": [
      "[0.5000001445690814, 0.9999993154478931, -0.4999802610105038, 0.4999841820999617]\n"
     ]
    }
   ],
   "source": [
    "print(robot.positions())\n",
    "for _ in range(1000):  # Run the simulation for 1000 steps (adjust as needed)\n",
    "    p.stepSimulation()\n",
    "    if _>500: #start moving once landed from spawn\n",
    "        robot.set_positions([0.5, 1.0, -0.5,-0.5])\n",
    "    time.sleep(1./240.)"
   ]
  },
  {
   "cell_type": "markdown",
   "metadata": {},
   "source": []
  }
 ],
 "metadata": {
  "kernelspec": {
   "display_name": "base",
   "language": "python",
   "name": "python3"
  },
  "language_info": {
   "codemirror_mode": {
    "name": "ipython",
    "version": 3
   },
   "file_extension": ".py",
   "mimetype": "text/x-python",
   "name": "python",
   "nbconvert_exporter": "python",
   "pygments_lexer": "ipython3",
   "version": "3.10.8"
  },
  "orig_nbformat": 4
 },
 "nbformat": 4,
 "nbformat_minor": 2
}
